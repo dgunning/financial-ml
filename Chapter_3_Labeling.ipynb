{
  "nbformat": 4,
  "nbformat_minor": 0,
  "metadata": {
    "colab": {
      "name": "Chapter 3 - Labeling.ipynb",
      "provenance": [],
      "authorship_tag": "ABX9TyN2cXx3wxPXBzwRNs+YJdiC",
      "include_colab_link": true
    },
    "kernelspec": {
      "name": "python3",
      "display_name": "Python 3"
    }
  },
  "cells": [
    {
      "cell_type": "markdown",
      "metadata": {
        "id": "view-in-github",
        "colab_type": "text"
      },
      "source": [
        "<a href=\"https://colab.research.google.com/github/dgunning/financial-ml/blob/master/Chapter_3_Labeling.ipynb\" target=\"_parent\"><img src=\"https://colab.research.google.com/assets/colab-badge.svg\" alt=\"Open In Colab\"/></a>"
      ]
    },
    {
      "cell_type": "markdown",
      "metadata": {
        "id": "-X4u28-5bDsE",
        "colab_type": "text"
      },
      "source": [
        "# Labeling\n",
        "Supervised learning algorithms require that the rows in X are associated with an arry of labels y, so that those labels can be predicted on unseen features samples."
      ]
    },
    {
      "cell_type": "markdown",
      "metadata": {
        "id": "yhy3ur_6bgrf",
        "colab_type": "text"
      },
      "source": [
        "## The Fixed-Time Horizon Method\n",
        "Virtually all ML papers label observations using the fixed-time horizon method.\n",
        "\n",
        "Consider a features matrix **X** with **l** rows\n",
        "\n",
        "Disadvantages\n",
        "1. Time bars do not exhibit good statistical properties\n",
        "2. The same threshold is applied regardless of the observed volatility\n",
        "\n",
        "Alternatives\n",
        "1. Label per a varying threshold, estimated using a rolling exponentially weighted standard deviation of returns.\n",
        "2. Use dollar or volume bars as their volatility is much closer to constant.\n",
        "\n",
        "But even these two improvements miss a key flaw of the fixed time horizon method: the path followed by prices. Every investment strategy has stop-loss limits, whether they are self-imposed by the portfolio manager, enforced by the risk department, or triggered by a margin call. "
      ]
    },
    {
      "cell_type": "markdown",
      "metadata": {
        "id": "S1UgwctQiDxq",
        "colab_type": "text"
      },
      "source": [
        "## Daily Volatility Estimates"
      ]
    },
    {
      "cell_type": "code",
      "metadata": {
        "id": "9LUP-VOhi6j8",
        "colab_type": "code",
        "colab": {}
      },
      "source": [
        "def getDailyVol(close, span0=100):\n",
        "  # daily vol, reindexed to close\n",
        "  df0 = close.index.searchsorted(close.index-pd.Timedelta(days=1))\n",
        "  df0 = df0[df0>0]\n",
        "  df0 = pd.Series(close.index[df0-1], index=close.index[close.shape[0]-df0.shape[0]:])\n",
        "  df0 = close.loc[df0.index]/close.loc[df0.values].values-1 # daily returns\n",
        "  df0 = df0.ewm(span=span0).std()\n",
        "  return df0"
      ],
      "execution_count": 0,
      "outputs": []
    },
    {
      "cell_type": "markdown",
      "metadata": {
        "id": "vGcK3IiaYHjh",
        "colab_type": "text"
      },
      "source": [
        "We can use the output of this function to set default profit taking and stop-loss limits throughout the rest of this chapter"
      ]
    },
    {
      "cell_type": "markdown",
      "metadata": {
        "id": "UUp-hiGPYgFl",
        "colab_type": "text"
      },
      "source": [
        "# The Triple Barrier Method\n",
        "The triple barrier method labels an observation according to the first barrier touched out of three barriers. First we set two horizontal barriers and one vertical barrier. The two horizontal barriers are defined by profit-taking and stop-loss limits, which are a dynamic function of estimated volatility. The third barrier is defined in terms of the number of bars elapsed since the position was taken. If the upper barrier was touched first, we label the observation as a 1. If the lower barrier was touched first, we label the observation as a -1. If the vertical barrier was touched first, we have two choices: the sign of the return, or a 0."
      ]
    },
    {
      "cell_type": "markdown",
      "metadata": {
        "id": "jP76Fbt9cBWT",
        "colab_type": "text"
      },
      "source": [
        ""
      ]
    },
    {
      "cell_type": "code",
      "metadata": {
        "id": "P7cFZyL0cBA4",
        "colab_type": "code",
        "colab": {}
      },
      "source": [
        ""
      ],
      "execution_count": 0,
      "outputs": []
    }
  ]
}