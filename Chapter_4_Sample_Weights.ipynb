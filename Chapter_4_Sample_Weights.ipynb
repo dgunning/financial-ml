{
  "nbformat": 4,
  "nbformat_minor": 0,
  "metadata": {
    "colab": {
      "name": "Chapter 4 - Sample Weights.ipynb",
      "provenance": [],
      "collapsed_sections": [],
      "authorship_tag": "ABX9TyNsA68He4UOF0oz1Uw6eHSe",
      "include_colab_link": true
    },
    "kernelspec": {
      "name": "python3",
      "display_name": "Python 3"
    }
  },
  "cells": [
    {
      "cell_type": "markdown",
      "metadata": {
        "id": "view-in-github",
        "colab_type": "text"
      },
      "source": [
        "<a href=\"https://colab.research.google.com/github/dgunning/financial-ml/blob/master/Chapter_4_Sample_Weights.ipynb\" target=\"_parent\"><img src=\"https://colab.research.google.com/assets/colab-badge.svg\" alt=\"Open In Colab\"/></a>"
      ]
    },
    {
      "cell_type": "markdown",
      "metadata": {
        "id": "PLdWueGoO_d3",
        "colab_type": "text"
      },
      "source": [
        "Sample Weights"
      ]
    },
    {
      "cell_type": "markdown",
      "metadata": {
        "id": "YgPQPRGcPDk7",
        "colab_type": "text"
      },
      "source": [
        "## Estimating the Uniqueness of a Label"
      ]
    },
    {
      "cell_type": "code",
      "metadata": {
        "id": "v6utKC1pNyxZ",
        "colab_type": "code",
        "colab": {}
      },
      "source": [
        "def mpNumCoEvents(closeIdx, t1, molecule):\n",
        "  \"\"\"\n",
        "  Compute the number of concurrent events per bar\n",
        "  molecule[0] is the date of the first event on which the weight will be computed\n",
        "  molecule[-1] is the date of the last event on which the weight will be computed\n",
        "  Any event that starts before t1[molecule].max() impacts the count\n",
        "  \"\"\"\n",
        "  # Find events which span the time period [molecule[0], molecule[-1]]\n",
        "  t1 = t1.fillna(closeIdx[-1])        # unclosed events must still impact other weights\n",
        "  t1 = t1[t1> molecule[0]]            # events that end on or after molecule[0]\n",
        "  t1 = t1.loc[:t1[molecule].max()]    # events that start at or before t1[molecule].max()\n",
        "  # Count events spanning a bar\n",
        "  iloc=closeIdx.searchsorted(np.array([t1.index[0]], t1.max()))\n",
        "  count = pd.Series(0, index=closeIdx[iloc[0]:iloc[1]+1])\n",
        "  for tIn, tOut in t1.iteritems(): count.loc[tIn:tOut]+=1\n",
        "  return count.loc[molecule[0]: t1[molecule].max()]\n",
        "\n",
        "\n",
        "  \n"
      ],
      "execution_count": 0,
      "outputs": []
    }
  ]
}