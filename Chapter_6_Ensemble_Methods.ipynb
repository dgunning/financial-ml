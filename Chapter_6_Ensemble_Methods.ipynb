{
  "nbformat": 4,
  "nbformat_minor": 0,
  "metadata": {
    "colab": {
      "name": "Chapter 6 - Ensemble Methods.ipynb",
      "provenance": [],
      "collapsed_sections": [],
      "authorship_tag": "ABX9TyN6dUJIuP9qyIs8jYFrsw+O",
      "include_colab_link": true
    },
    "kernelspec": {
      "name": "python3",
      "display_name": "Python 3"
    }
  },
  "cells": [
    {
      "cell_type": "markdown",
      "metadata": {
        "id": "view-in-github",
        "colab_type": "text"
      },
      "source": [
        "<a href=\"https://colab.research.google.com/github/dgunning/financial-ml/blob/master/Chapter_6_Ensemble_Methods.ipynb\" target=\"_parent\"><img src=\"https://colab.research.google.com/assets/colab-badge.svg\" alt=\"Open In Colab\"/></a>"
      ]
    },
    {
      "cell_type": "markdown",
      "metadata": {
        "id": "yF93oljg1W94",
        "colab_type": "text"
      },
      "source": [
        "# Ensemble Methods"
      ]
    },
    {
      "cell_type": "markdown",
      "metadata": {
        "id": "IsxiomDm1eWO",
        "colab_type": "text"
      },
      "source": [
        "## Bootstrap Aggregation"
      ]
    },
    {
      "cell_type": "code",
      "metadata": {
        "id": "l6Lcaf5kwuyd",
        "colab_type": "code",
        "colab": {
          "base_uri": "https://localhost:8080/",
          "height": 33
        },
        "outputId": "8685f31a-c39a-462b-b256-36edbf6b35a1"
      },
      "source": [
        "from scipy.special import comb\n",
        "N,p,k = 100, 1./3,3. \n",
        "p_=0\n",
        "for i in range(0, int(N/k)+1):\n",
        "  p_+=comb(N,i)*p**i*(1-p)**(N-i)\n",
        "p, 1-p_"
      ],
      "execution_count": 5,
      "outputs": [
        {
          "output_type": "execute_result",
          "data": {
            "text/plain": [
              "(0.3333333333333333, 0.4811966952738904)"
            ]
          },
          "metadata": {
            "tags": []
          },
          "execution_count": 5
        }
      ]
    },
    {
      "cell_type": "markdown",
      "metadata": {
        "id": "0SBQgbHQ5mfO",
        "colab_type": "text"
      },
      "source": [
        "## Random Forest\n",
        "Decision forests are prone to overfitting. Random forest produces ensemble forecasts with lower variance."
      ]
    },
    {
      "cell_type": "markdown",
      "metadata": {
        "id": "ajJct65x8TQm",
        "colab_type": "text"
      },
      "source": [
        "### Reducing overfitting in Random Forests\n",
        "If a large number of samples are redundant, overfitting will still take place\n",
        "\n",
        "1. Set a paramater *max_features* to a lower value, as a way of forcing discrepancy between the trees\n",
        "2. Early stopping: Set the regularizzation parameter min_weight_fraction_leaf to a sufficiantly large value (e.g.5%) such that the out-of-bag accuracy converges to out-of-sample (k-fold) accuracy\n",
        "3. Use *BaggingClassifier* on *DecisionTreeClassifier* where max_samples is set to the average uniqueness between samples.\n",
        "(a) clf = DecisionTreeClassifier(criterion='entropy', max_features='auto', class_weight='balanced')\n",
        "(b) bc = BaggingClassifier(base_estimator=clf, n-estimators=1000, max_samples=avgU, max_features=1.)\n",
        "4. Using BaggingClassifier on RandomForestClassifier where max_samples is set to the average uniqueness (avgU) between the samples\n",
        "(a) cls = RandomForestClassifier(n_estimators=1, criterion='entropy', bootstrap=False, class_weight='balanced_subsample')\n",
        "(b) bc = BaggingClassifier(base_estimator=clf, n_estimators=1000, max_samples=avgU, max_features=1.)\n",
        "5. Modify the RF class to replace standard bootstraping with sequential bootstraping"
      ]
    },
    {
      "cell_type": "markdown",
      "metadata": {
        "id": "Z0ylSEaY_-AU",
        "colab_type": "text"
      },
      "source": [
        "### Three ways of setting up an RF"
      ]
    },
    {
      "cell_type": "code",
      "metadata": {
        "id": "L7O7HezV8RRR",
        "colab_type": "code",
        "colab": {}
      },
      "source": [
        "from sklearn.ensemble import RandomForestClassifier, BaggingClassifier\n",
        "from sklearn.tree import DecisionTreeClassifier\n",
        "avgU = 6\n",
        "\n",
        "clf0 = RandomForestClassifier(n_estimators=1, criterion='entropy', bootstrap=False, class_weight='balanced_subsample')\n",
        "\n",
        "clf1 =DecisionTreeClassifier(criterion='entropy', max_features='auto', class_weight='balanaced')\n",
        "clf1 = BaggingClassifier(base_estimator=clf1, n_estimators=1000, max_samples=avgU)\n",
        "\n",
        "clf2 = RandomForestClassifier(n_estimators=1, criterion='entropy', bootstrap=False, class_weight='balanced_subsample')\n",
        "clf2 = BaggingClassifier(base_estimator=clf2, n_estimators=1000, max_samples=avgU, max_features=1.)\n"
      ],
      "execution_count": 0,
      "outputs": []
    },
    {
      "cell_type": "markdown",
      "metadata": {
        "id": "x7PJ8nf3CPCX",
        "colab_type": "text"
      },
      "source": [
        "When fitting decision trees, a rotation of the features in a direction that aligns with the exes typically reduces the number of levels needed by the tree. For this reason, fit RF on a PCA of the fetaures, as that may speed up calculations and reduce some overfitting"
      ]
    },
    {
      "cell_type": "markdown",
      "metadata": {
        "id": "OvuvL3xn5kRr",
        "colab_type": "text"
      },
      "source": [
        ""
      ]
    }
  ]
}